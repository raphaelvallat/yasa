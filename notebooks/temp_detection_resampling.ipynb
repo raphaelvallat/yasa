{
 "cells": [
  {
   "cell_type": "code",
   "execution_count": 1,
   "metadata": {},
   "outputs": [],
   "source": [
    "import mne\n",
    "import yasa\n",
    "import numpy as np\n",
    "import pandas as pd"
   ]
  },
  {
   "cell_type": "code",
   "execution_count": 2,
   "metadata": {},
   "outputs": [
    {
     "data": {
      "text/html": [
       "\n",
       "\n",
       "<table class=\"table table-hover table-striped table-sm table-responsive small\">\n",
       "    <tr>\n",
       "        <th>Measurement date</th>\n",
       "        <td>January 15, 2016  14:01:00 GMT</td>\n",
       "        \n",
       "    </tr>\n",
       "    <tr>\n",
       "        <th>Experimenter</th>\n",
       "<td>Unknown</td>\n",
       "    </tr>\n",
       "        <th>Participant</th>\n",
       "<td>Unknown</td>\n",
       "    </tr>\n",
       "    <tr>\n",
       "        <th>Digitized points</th>\n",
       "        <td>15 points</td>\n",
       "    </tr>\n",
       "    <tr>\n",
       "        <th>Good channels</th>\n",
       "        <td>6 EEG, 2 EOG, 1 EMG</td>\n",
       "    </tr>\n",
       "    <tr>\n",
       "        <th>Bad channels</th>\n",
       "        <td>None</td>\n",
       "    </tr>\n",
       "    <tr>\n",
       "        <th>EOG channels</th>\n",
       "        <td>EOG1, EOG2</td>\n",
       "    </tr>\n",
       "    <tr>\n",
       "        <th>ECG channels</th>\n",
       "        <td>Not available</td>\n",
       "    <tr>\n",
       "        <th>Sampling frequency</th>\n",
       "        <td>100.00 Hz</td>\n",
       "    </tr>\n",
       "    <tr>\n",
       "        <th>Highpass</th>\n",
       "        <td>0.00 Hz</td>\n",
       "    </tr>\n",
       "    <tr>\n",
       "        <th>Lowpass</th>\n",
       "        <td>50.00 Hz</td>\n",
       "    </tr>\n",
       "\n",
       "    <tr>\n",
       "        <th>Filenames</th>\n",
       "        <td>sub-02_mne_raw.fif</td>\n",
       "    </tr>\n",
       "    <tr>\n",
       "        <th>Duration</th>\n",
       "        <td>00:48:59 (HH:MM:SS)</td>\n",
       "    </tr>\n",
       "</table>\n"
      ],
      "text/plain": [
       "<Raw | sub-02_mne_raw.fif, 9 x 294000 (2940.0 s), ~20.2 MB, data loaded>"
      ]
     },
     "execution_count": 2,
     "metadata": {},
     "output_type": "execute_result"
    }
   ],
   "source": [
    "raw = mne.io.read_raw_fif(\"sub-02_mne_raw.fif\", preload=True, verbose=0)\n",
    "raw"
   ]
  },
  {
   "cell_type": "code",
   "execution_count": 3,
   "metadata": {},
   "outputs": [
    {
     "data": {
      "text/html": [
       "\n",
       "\n",
       "<table class=\"table table-hover table-striped table-sm table-responsive small\">\n",
       "    <tr>\n",
       "        <th>Measurement date</th>\n",
       "        <td>January 15, 2016  14:01:00 GMT</td>\n",
       "        \n",
       "    </tr>\n",
       "    <tr>\n",
       "        <th>Experimenter</th>\n",
       "<td>Unknown</td>\n",
       "    </tr>\n",
       "        <th>Participant</th>\n",
       "<td>Unknown</td>\n",
       "    </tr>\n",
       "    <tr>\n",
       "        <th>Digitized points</th>\n",
       "        <td>15 points</td>\n",
       "    </tr>\n",
       "    <tr>\n",
       "        <th>Good channels</th>\n",
       "        <td>1 EEG</td>\n",
       "    </tr>\n",
       "    <tr>\n",
       "        <th>Bad channels</th>\n",
       "        <td>None</td>\n",
       "    </tr>\n",
       "    <tr>\n",
       "        <th>EOG channels</th>\n",
       "        <td>Not available</td>\n",
       "    </tr>\n",
       "    <tr>\n",
       "        <th>ECG channels</th>\n",
       "        <td>Not available</td>\n",
       "    <tr>\n",
       "        <th>Sampling frequency</th>\n",
       "        <td>100.00 Hz</td>\n",
       "    </tr>\n",
       "    <tr>\n",
       "        <th>Highpass</th>\n",
       "        <td>0.00 Hz</td>\n",
       "    </tr>\n",
       "    <tr>\n",
       "        <th>Lowpass</th>\n",
       "        <td>50.00 Hz</td>\n",
       "    </tr>\n",
       "\n",
       "    <tr>\n",
       "        <th>Filenames</th>\n",
       "        <td>sub-02_mne_raw.fif</td>\n",
       "    </tr>\n",
       "    <tr>\n",
       "        <th>Duration</th>\n",
       "        <td>00:48:59 (HH:MM:SS)</td>\n",
       "    </tr>\n",
       "</table>\n"
      ],
      "text/plain": [
       "<Raw | sub-02_mne_raw.fif, 1 x 294000 (2940.0 s), ~2.3 MB, data loaded>"
      ]
     },
     "execution_count": 3,
     "metadata": {},
     "output_type": "execute_result"
    }
   ],
   "source": [
    "raw.pick_channels(['C3'])"
   ]
  },
  {
   "cell_type": "code",
   "execution_count": 4,
   "metadata": {},
   "outputs": [],
   "source": [
    "# Load the hypnogram\n",
    "hypno = np.loadtxt(\"sub-02_hypno_30s.txt\", dtype=str)\n",
    "hypno = yasa.hypno_str_to_int(hypno)\n",
    "hypno_up = yasa.hypno_upsample_to_data(hypno, 1/30, raw)"
   ]
  },
  {
   "cell_type": "code",
   "execution_count": 5,
   "metadata": {},
   "outputs": [
    {
     "name": "stdout",
     "output_type": "stream",
     "text": [
      "100 598\n",
      "125 585\n",
      "150 624\n",
      "175 611\n",
      "200 611\n",
      "215 611\n",
      "250 611\n",
      "275 611\n",
      "300 611\n",
      "350 611\n",
      "400 611\n",
      "450 611\n",
      "500 611\n"
     ]
    }
   ],
   "source": [
    "for sf in [100, 125, 150, 175, 200, 215, 250, 275, 300, 350, 400, 450, 500]:\n",
    "    print(sf, yasa.spindles_detect(\n",
    "        raw.copy().resample(sf), thresh = {'rel_pow': 0.2, 'corr': 0.65, 'rms': 1.5}).summary().size)"
   ]
  },
  {
   "cell_type": "code",
   "execution_count": 6,
   "metadata": {},
   "outputs": [
    {
     "name": "stdout",
     "output_type": "stream",
     "text": [
      "100\n"
     ]
    },
    {
     "name": "stderr",
     "output_type": "stream",
     "text": [
      "14-Mar-22 16:42:16 | INFO | Number of samples in data = 294000\n",
      "14-Mar-22 16:42:16 | INFO | Sampling frequency = 100.00 Hz\n",
      "14-Mar-22 16:42:16 | INFO | Data duration = 2940.00 seconds\n",
      "14-Mar-22 16:42:16 | INFO | Trimmed standard deviation of C3 = 9.7436 uV\n",
      "14-Mar-22 16:42:16 | INFO | Peak-to-peak amplitude of C3 = 1132.4746 uV\n",
      "14-Mar-22 16:42:16 | INFO | Moving RMS threshold = 3.969\n",
      "14-Mar-22 16:42:16 | INFO | N supra-theshold relative power = 13323\n",
      "14-Mar-22 16:42:16 | INFO | N supra-theshold moving corr = 23144\n",
      "14-Mar-22 16:42:16 | INFO | N supra-theshold moving RMS = 42550\n"
     ]
    },
    {
     "name": "stdout",
     "output_type": "stream",
     "text": [
      "200\n"
     ]
    },
    {
     "name": "stderr",
     "output_type": "stream",
     "text": [
      "14-Mar-22 16:42:16 | INFO | Number of samples in data = 588000\n",
      "14-Mar-22 16:42:16 | INFO | Sampling frequency = 200.00 Hz\n",
      "14-Mar-22 16:42:16 | INFO | Data duration = 2940.00 seconds\n",
      "14-Mar-22 16:42:16 | INFO | Trimmed standard deviation of C3 = 9.7442 uV\n",
      "14-Mar-22 16:42:16 | INFO | Peak-to-peak amplitude of C3 = 1169.5754 uV\n",
      "14-Mar-22 16:42:17 | INFO | Moving RMS threshold = 3.970\n",
      "14-Mar-22 16:42:17 | INFO | N supra-theshold relative power = 26643\n",
      "14-Mar-22 16:42:17 | INFO | N supra-theshold moving corr = 46274\n",
      "14-Mar-22 16:42:17 | INFO | N supra-theshold moving RMS = 85187\n"
     ]
    },
    {
     "name": "stdout",
     "output_type": "stream",
     "text": [
      "300\n"
     ]
    },
    {
     "name": "stderr",
     "output_type": "stream",
     "text": [
      "14-Mar-22 16:42:17 | INFO | Number of samples in data = 882000\n",
      "14-Mar-22 16:42:17 | INFO | Sampling frequency = 300.00 Hz\n",
      "14-Mar-22 16:42:17 | INFO | Data duration = 2940.00 seconds\n",
      "14-Mar-22 16:42:17 | INFO | Trimmed standard deviation of C3 = 9.7448 uV\n",
      "14-Mar-22 16:42:17 | INFO | Peak-to-peak amplitude of C3 = 1171.5536 uV\n",
      "14-Mar-22 16:42:17 | INFO | Moving RMS threshold = 3.970\n",
      "14-Mar-22 16:42:17 | INFO | N supra-theshold relative power = 39961\n",
      "14-Mar-22 16:42:17 | INFO | N supra-theshold moving corr = 69469\n",
      "14-Mar-22 16:42:17 | INFO | N supra-theshold moving RMS = 127762\n"
     ]
    }
   ],
   "source": [
    "for sf in [100, 200, 300]:\n",
    "    print(sf, flush=True)\n",
    "    yasa.spindles_detect(raw.copy().resample(sf), verbose=\"debug\")"
   ]
  }
 ],
 "metadata": {
  "kernelspec": {
   "display_name": "Python 3",
   "language": "python",
   "name": "python3"
  },
  "language_info": {
   "codemirror_mode": {
    "name": "ipython",
    "version": 3
   },
   "file_extension": ".py",
   "mimetype": "text/x-python",
   "name": "python",
   "nbconvert_exporter": "python",
   "pygments_lexer": "ipython3",
   "version": "3.8.3"
  }
 },
 "nbformat": 4,
 "nbformat_minor": 4
}
